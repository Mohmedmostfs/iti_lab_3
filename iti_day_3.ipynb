{
 "cells": [
  {
   "cell_type": "code",
   "execution_count": 17,
   "id": "d46b7e22",
   "metadata": {},
   "outputs": [
    {
     "name": "stdout",
     "output_type": "stream",
     "text": [
      "name is ahmed\n",
      "age is 20\n",
      "gender is male\n"
     ]
    }
   ],
   "source": [
    "class Person:\n",
    "    def __init__(self,name, age, gender):\n",
    "        self.na=name\n",
    "        self.ag=age\n",
    "        self.ge=gender\n",
    "    def display_info(self):\n",
    "        print(\"name is \"+self.na)\n",
    "        print(\"age is \"+str(self.ag))\n",
    "        print(\"gender is \"+self.ge)\n",
    "ahmed=Person(\"ahmed\",20,\"male\")\n",
    "ahmed.display_info()\n",
    "    "
   ]
  },
  {
   "cell_type": "code",
   "execution_count": 8,
   "id": "f3c7c8bd",
   "metadata": {},
   "outputs": [
    {
     "name": "stdout",
     "output_type": "stream",
     "text": [
      "name is mohmed\n",
      "age is 22\n",
      "gender is M\n",
      "student_id is 3546\n",
      "major is Communications Engineering\n",
      "GPA is 2.8\n",
      "courses is AI\n"
     ]
    }
   ],
   "source": [
    "class Person:\n",
    "    def __init__(self,name, age, gender):\n",
    "        self.na=name\n",
    "        self.ag=age\n",
    "        self.ge=gender\n",
    "    def display_info(self):\n",
    "        print(\"name is \"+self.na)\n",
    "        print(\"age is \"+str(self.ag))\n",
    "        print(\"gender is \"+self.ge)\n",
    "class student(Person):\n",
    "    def __init__(self,name, age, gender,student_id, major, GPA, Studid_courses):\n",
    "        super().__init__(name,age,gender)\n",
    "        self.id=student_id\n",
    "        self.maj=major\n",
    "        self.gpa=GPA\n",
    "        self.courses=Studid_courses\n",
    "    def display_info(self):\n",
    "       # print(\"name is \"+super.na)\n",
    "       # print(\"age is \"+str(super.ag))\n",
    "       # print(\"gender is \"+super.ge)\n",
    "        super().display_info()\n",
    "        print(\"student_id is \"+str(self.id))\n",
    "        print(\"major is \"+self.maj)\n",
    "        print(\"GPA is \"+str(self.gpa))\n",
    "        print(\"courses is \"+str(self.courses))\n",
    "std1=student(\"mohmed\",22,\"M\",3546,\"Communications Engineering\",2.8,\"AI\")\n",
    "std1.display_info()\n"
   ]
  },
  {
   "cell_type": "code",
   "execution_count": 10,
   "id": "55735185",
   "metadata": {},
   "outputs": [
    {
     "name": "stdout",
     "output_type": "stream",
     "text": [
      "name is mahmoud\n",
      "age is 25\n",
      "gender is M\n",
      "-------------------------------------------------------------------\n",
      "name is mohmed\n",
      "age is 22\n",
      "gender is M\n",
      "student_id is 3546\n",
      "major is Communications Engineering\n",
      "GPA is 2.8\n",
      "courses is AI\n"
     ]
    }
   ],
   "source": [
    "class Person:\n",
    "    def __init__(self,name, age, gender):\n",
    "        self.na=name\n",
    "        self.ag=age\n",
    "        self.ge=gender\n",
    "    def display_info(self):\n",
    "        print(\"name is \"+self.na)\n",
    "        print(\"age is \"+str(self.ag))\n",
    "        print(\"gender is \"+self.ge)\n",
    "class student(Person):\n",
    "    def __init__(self,name, age, gender,student_id, major, GPA, Studid_courses):\n",
    "        super().__init__(name,age,gender)\n",
    "        self.id=student_id\n",
    "        self.maj=major\n",
    "        self.gpa=GPA\n",
    "        self.courses=Studid_courses\n",
    "    def display_info(self):\n",
    "        super().display_info()\n",
    "        print(\"student_id is \"+str(self.id))\n",
    "        print(\"major is \"+self.maj)\n",
    "        print(\"GPA is \"+str(self.gpa))\n",
    "        print(\"courses is \"+str(self.courses))\n",
    "        \n",
    "def desplay_obj(obj):\n",
    "    obj.display_info()\n",
    "per=Person(\"mahmoud\",25,\"M\")\n",
    "std1=student(\"mohmed\",22,\"M\",3546,\"Communications Engineering\",2.8,\"AI\")\n",
    "desplay_obj(per)\n",
    "print(\"-------------------------------------------------------------------\")\n",
    "desplay_obj(std1)"
   ]
  },
  {
   "cell_type": "code",
   "execution_count": 16,
   "id": "fbb8b43d",
   "metadata": {},
   "outputs": [
    {
     "name": "stdout",
     "output_type": "stream",
     "text": [
      "name is mohamed\n",
      "age is  22\n",
      "gender is  M\n",
      "--------------------------------------\n",
      "name is mostafa\n",
      "age is  20\n",
      "gender is  M\n",
      "id is  3621\n"
     ]
    }
   ],
   "source": [
    "class Human():\n",
    "    def __init__(self,name,age,gender):\n",
    "        self.na=name\n",
    "        self._age=age\n",
    "        self.__gend=gender\n",
    "    def priv(self):\n",
    "        return self.__gend\n",
    "    def show_data(self):\n",
    "        print(\"name is \"+self.na)\n",
    "        print(\"age is \",self._age)\n",
    "        print(\"gender is \",self.priv())\n",
    "class stud(Human):\n",
    "    def __init__(self, name, age, gender, id):\n",
    "        super().__init__(name, age, gender)\n",
    "        self.__id=id\n",
    "    def privd(self):\n",
    "        return self.__id   \n",
    "    def show_data_for_std(self):\n",
    "        super().show_data()\n",
    "        print(\"id is \",self.privd())\n",
    "hu1=Human(\"mohamed\",22,\"M\")\n",
    "std1=stud(\"mostafa\",20,\"M\",3621)\n",
    "hu1.show_data()\n",
    "print(\"--------------------------------------\")\n",
    "std1.show_data_for_std()"
   ]
  },
  {
   "cell_type": "code",
   "execution_count": null,
   "id": "f40974ac",
   "metadata": {},
   "outputs": [],
   "source": []
  }
 ],
 "metadata": {
  "kernelspec": {
   "display_name": "Python 3 (ipykernel)",
   "language": "python",
   "name": "python3"
  },
  "language_info": {
   "codemirror_mode": {
    "name": "ipython",
    "version": 3
   },
   "file_extension": ".py",
   "mimetype": "text/x-python",
   "name": "python",
   "nbconvert_exporter": "python",
   "pygments_lexer": "ipython3",
   "version": "3.11.5"
  }
 },
 "nbformat": 4,
 "nbformat_minor": 5
}
